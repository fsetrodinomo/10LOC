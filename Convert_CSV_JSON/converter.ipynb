{
 "cells": [
  {
   "cell_type": "code",
   "execution_count": 3,
   "id": "053e6d93-1449-4e54-b3f3-2cd5eac68e0d",
   "metadata": {},
   "outputs": [],
   "source": [
    "import pandas as pd\n",
    "import csv,json"
   ]
  },
  {
   "cell_type": "code",
   "execution_count": 4,
   "id": "360ee659-7f07-4429-87e3-84d5a217c8ec",
   "metadata": {},
   "outputs": [],
   "source": [
    "data=pd.read_csv(\"chocolates.csv\")"
   ]
  },
  {
   "cell_type": "code",
   "execution_count": 5,
   "id": "0b36ae73-585d-4919-afee-b7c126a8edf6",
   "metadata": {},
   "outputs": [
    {
     "name": "stdout",
     "output_type": "stream",
     "text": [
      "                           Name               MFR  Country  Type    Calories  \\\n",
      "0                Noir 86% Cacao         Cote D'Or  Belgium  Dark  460.000000   \n",
      "1                     70% Cocoa         Cote D'Or  Belgium  Dark  600.000000   \n",
      "2      Solid Dark Chocolate Bar            Godiva  Belgium  Dark  534.883721   \n",
      "3      72% Extra Dark Chocolate            Godiva  Belgium  Dark  534.883721   \n",
      "4      Extra Dark Chocolate Bar           Guylian  Belgium  Dark  575.757576   \n",
      "..                          ...               ...      ...   ...         ...   \n",
      "83        Milk Chocolate Square        Ghiradelli       US  Milk  475.000000   \n",
      "84  Symphony Milk Chocolate Bar         Hershey's       US  Milk  530.952381   \n",
      "85       35% Cacao Premium Milk         Hershey's       US  Milk  550.000000   \n",
      "86     41% Cacao Milk Chocolate  Scharffen Berger       US  Milk  465.116279   \n",
      "87               Milk Chocolate      Trader Joe's       US  Milk  520.000000   \n",
      "\n",
      "        CalFat     TotFat     SatFat       Chol          Na      Carbs  \\\n",
      "0   380.000000  44.000000  26.000000   0.000000    0.000000  28.000000   \n",
      "1   432.000000  48.000000  30.000000  10.000000    0.000000  42.000000   \n",
      "2   302.325581  32.558140  20.930233   0.000000    0.000000  60.465116   \n",
      "3   348.837209  39.534884  20.930233   0.000000   81.395349  41.860465   \n",
      "4   333.333333  39.393939  24.242424   0.000000   90.909091  48.484848   \n",
      "..         ...        ...        ...        ...         ...        ...   \n",
      "83  250.000000  27.500000  15.000000  12.500000   37.500000  62.500000   \n",
      "84  276.190476  30.476191  18.333333  23.809524  100.000000  58.095238   \n",
      "85  325.000000  37.500000  22.500000  25.000000   75.000000  52.500000   \n",
      "86  302.325581  32.558140  20.930233  23.255814  116.279070  48.837209   \n",
      "87  280.000000  32.000000  18.000000  20.000000   70.000000  58.000000   \n",
      "\n",
      "        Fiber     Sugars   Protein  \n",
      "0   10.000000  10.000000  8.000000  \n",
      "1   10.000000  28.000000  8.000000  \n",
      "2    9.302326  46.511628  6.976744  \n",
      "3   13.953488  27.906977  9.302326  \n",
      "4   12.121212  33.333333  9.090909  \n",
      "..        ...        ...       ...  \n",
      "83   5.000000  52.500000  5.000000  \n",
      "84   1.666667  54.047619  8.571429  \n",
      "85   2.500000  50.000000  7.500000  \n",
      "86   4.651163  41.860465  7.233327  \n",
      "87   0.000000  54.000000  6.000000  \n",
      "\n",
      "[88 rows x 14 columns]\n"
     ]
    }
   ],
   "source": [
    "print(data)\n",
    "print(\"Converted json below\")"
   ]
  },
  {
   "cell_type": "code",
   "execution_count": null,
   "id": "01ca8aae-2317-42a8-acd9-2878ce5bd14b",
   "metadata": {},
   "outputs": [],
   "source": []
  }
 ],
 "metadata": {
  "kernelspec": {
   "display_name": "Python 3 (ipykernel)",
   "language": "python",
   "name": "python3"
  },
  "language_info": {
   "codemirror_mode": {
    "name": "ipython",
    "version": 3
   },
   "file_extension": ".py",
   "mimetype": "text/x-python",
   "name": "python",
   "nbconvert_exporter": "python",
   "pygments_lexer": "ipython3",
   "version": "3.9.12"
  }
 },
 "nbformat": 4,
 "nbformat_minor": 5
}
