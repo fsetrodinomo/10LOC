{
 "cells": [
  {
   "cell_type": "code",
   "execution_count": 3,
   "id": "053e6d93-1449-4e54-b3f3-2cd5eac68e0d",
   "metadata": {},
   "outputs": [],
   "source": [
    "import pandas as pd\n",
    "import csv,json"
   ]
  },
  {
   "cell_type": "code",
   "execution_count": 4,
   "id": "360ee659-7f07-4429-87e3-84d5a217c8ec",
   "metadata": {},
   "outputs": [],
   "source": [
    "data=pd.read_csv(\"chocolates.csv\")"
   ]
  },
  {
   "cell_type": "code",
   "execution_count": null,
   "id": "0b36ae73-585d-4919-afee-b7c126a8edf6",
   "metadata": {},
   "outputs": [],
   "source": []
  }
 ],
 "metadata": {
  "kernelspec": {
   "display_name": "Python 3 (ipykernel)",
   "language": "python",
   "name": "python3"
  },
  "language_info": {
   "codemirror_mode": {
    "name": "ipython",
    "version": 3
   },
   "file_extension": ".py",
   "mimetype": "text/x-python",
   "name": "python",
   "nbconvert_exporter": "python",
   "pygments_lexer": "ipython3",
   "version": "3.9.12"
  }
 },
 "nbformat": 4,
 "nbformat_minor": 5
}
